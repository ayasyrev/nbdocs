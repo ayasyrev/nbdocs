{
 "cells": [
  {
   "cell_type": "code",
   "execution_count": null,
   "metadata": {},
   "outputs": [
    {
     "name": "stdout",
     "output_type": "stream",
     "text": [
      "This is code cell with output\n"
     ]
    }
   ],
   "source": [
    "# code cell.\n",
    "print(\"This is code cell with output\")"
   ]
  },
  {
   "cell_type": "code",
   "execution_count": null,
   "metadata": {},
   "outputs": [
    {
     "name": "stdout",
     "output_type": "stream",
     "text": [
      "This cell hidden - no input and output.\n"
     ]
    }
   ],
   "source": [
    "# this cell is hidden.\n",
    "# hide\n",
    "print(\"This cell hidden - no input and output.\")"
   ]
  },
  {
   "cell_type": "code",
   "execution_count": null,
   "metadata": {},
   "outputs": [
    {
     "name": "stdout",
     "output_type": "stream",
     "text": [
      "Code is hidden, only output is shown.\n"
     ]
    }
   ],
   "source": [
    "# Cell with hidden input\n",
    "# hide_input\n",
    "print(\"Code is hidden, only output is shown.\")"
   ]
  },
  {
   "cell_type": "code",
   "execution_count": null,
   "metadata": {},
   "outputs": [
    {
     "name": "stdout",
     "output_type": "stream",
     "text": [
      "Output of this code cell is hidden\n"
     ]
    }
   ],
   "source": [
    "# Cell with hidden output.\n",
    "# hide_output\n",
    "print(\"Output of this code cell is hidden\")"
   ]
  }
 ],
 "metadata": {
  "language_info": {
   "name": "python"
  }
 },
 "nbformat": 4,
 "nbformat_minor": 2
}
